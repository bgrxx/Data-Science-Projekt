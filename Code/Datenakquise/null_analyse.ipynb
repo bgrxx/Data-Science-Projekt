{
 "cells": [
  {
   "cell_type": "code",
   "id": "initial_id",
   "metadata": {
    "collapsed": true,
    "ExecuteTime": {
     "end_time": "2024-10-27T15:44:21.370975Z",
     "start_time": "2024-10-27T15:44:21.368347Z"
    }
   },
   "source": [
    "import numpy as np\n",
    "import pandas as pd\n",
    "import os"
   ],
   "outputs": [],
   "execution_count": 2
  },
  {
   "metadata": {
    "jupyter": {
     "is_executing": true
    },
    "ExecuteTime": {
     "start_time": "2024-10-27T15:44:24.085173Z"
    }
   },
   "cell_type": "code",
   "source": [
    "meta_data = pd.read_csv('/Users/bugragorkem/Desktop/Uni/5. Semester /Data Science Projekt/archive/sensor_meta_feature.csv', sep = '\\t')\n",
    "incidince_data = pd.read_csv('/Users/bugragorkem/Desktop/Uni/5. Semester /Data Science Projekt/archive/incidents.csv', sep = '\\t')\n",
    "\n",
    "DATA_PATH = '/Users/bugragorkem/Desktop/Uni/5. Semester /Data Science Projekt/archive/p_data/p_einzelnt/'\n",
    "MONTHS = [\"p01\", \"p02\", \"p03\", \"p04\", \"p05\", \"p06\", \"p07\", \"p08\", \"p09\", \"p10\", \"p11\", \"p12\"] \n",
    "for month in MONTHS:\n",
    "    file_path = os.path.join(DATA_PATH, f\"{month}_done.npy\")\n",
    "    globals()[month] = np.load(file_path)\n"
   ],
   "id": "ba0dc643bd92b211",
   "outputs": [],
   "execution_count": null
  },
  {
   "metadata": {
    "ExecuteTime": {
     "end_time": "2024-10-25T10:54:52.689419Z",
     "start_time": "2024-10-25T10:54:52.673683Z"
    }
   },
   "cell_type": "code",
   "source": [
    "null_sensor = meta_data.isnull().sum()\n",
    "print(null_sensor)"
   ],
   "id": "db4a59ff1c7570e5",
   "outputs": [
    {
     "name": "stdout",
     "output_type": "stream",
     "text": [
      "Fwy                        0\n",
      "District                   0\n",
      "County                     0\n",
      "City                    5007\n",
      "Abs PM                     0\n",
      "Length                  6354\n",
      "station_id                 0\n",
      "Name                       7\n",
      "Type                       0\n",
      "Sensor Type             4064\n",
      "HOV                        0\n",
      "Road Width               833\n",
      "Lane Width               833\n",
      "Inner Shoulder Width     833\n",
      "Outer Shoulder Width     833\n",
      "Design Speed Limit       833\n",
      "Inner Median Type        833\n",
      "Inner Median Width       833\n",
      "Terrain                  833\n",
      "Population               833\n",
      "Barrier                  833\n",
      "Surface                  942\n",
      "Roadway Use             3578\n",
      "Lat                       26\n",
      "Lng                       26\n",
      "Direction                  0\n",
      "dtype: int64\n"
     ]
    }
   ],
   "execution_count": 3
  },
  {
   "metadata": {
    "ExecuteTime": {
     "end_time": "2024-10-25T11:09:44.830256Z",
     "start_time": "2024-10-25T11:06:58.720935Z"
    }
   },
   "cell_type": "code",
   "source": [
    "# Liste, um Ergebnisse zu speichern\n",
    "null_analysis = {}\n",
    "\n",
    "for i, arr in enumerate(MONTHS, start=1):\n",
    "    # Nullwerte entlang der Z-Achse zählen\n",
    "    null_counts_z = np.sum(np.isnan(arr), axis=(0, 1))  # Summe über x und y Achsen\n",
    "    total_elements_z = arr.shape[0] * arr.shape[1]  # Gesamtzahl an Elementen in x und y für jede z-Schicht\n",
    "    null_percentage_z = (null_counts_z / total_elements_z) * 100\n",
    "\n",
    "    # Ergebnisse speichern\n",
    "    null_analysis[f'p{i:02d}'] = {\n",
    "        'Null counts (Z-Axis)': null_counts_z,\n",
    "        'Null percentage (Z-Axis)': null_percentage_z\n",
    "    }\n",
    "\n",
    "# Ausgabe des Ergebnisses für jede Datei entlang der Z-Achse\n",
    "for key, value in null_analysis.items():\n",
    "    print(f\"{key}:\")\n",
    "    print(f\" Null counts per Z-slice: {value['Null counts (Z-Axis)']}\")\n",
    "    print(f\" Null percentage per Z-slice: {value['Null percentage (Z-Axis)']}%\\n\")"
   ],
   "id": "2ea0a9ba410fcb22",
   "outputs": [
    {
     "name": "stdout",
     "output_type": "stream",
     "text": [
      "p01:\n",
      " Null counts per Z-slice: [3627470 2995538       0]\n",
      " Null percentage per Z-slice: [2.39395854 1.97691332 0.        ]%\n",
      "\n",
      "p02:\n",
      " Null counts per Z-slice: [3183347 2581166       0]\n",
      " Null percentage per Z-slice: [2.32595035 1.88595964 0.        ]%\n",
      "\n",
      "p03:\n",
      " Null counts per Z-slice: [3386710 2738660       0]\n",
      " Null percentage per Z-slice: [2.23506833 1.807386   0.        ]%\n",
      "\n",
      "p04:\n",
      " Null counts per Z-slice: [3308514 2658009       0]\n",
      " Null percentage per Z-slice: [2.25624476 1.81263216 0.        ]%\n",
      "\n",
      "p05:\n",
      " Null counts per Z-slice: [3182519 2560244       0]\n",
      " Null percentage per Z-slice: [2.10031194 1.68963988 0.        ]%\n",
      "\n",
      "p06:\n",
      " Null counts per Z-slice: [2841905 2261461       0]\n",
      " Null percentage per Z-slice: [1.93804024 1.54220582 0.        ]%\n",
      "\n",
      "p07:\n",
      " Null counts per Z-slice: [2922470 2332111       0]\n",
      " Null percentage per Z-slice: [1.9286919 1.5390829 0.       ]%\n",
      "\n",
      "p08:\n",
      " Null counts per Z-slice: [3058252 2410777       0]\n",
      " Null percentage per Z-slice: [2.0183016  1.59099874 0.        ]%\n",
      "\n",
      "p09:\n",
      " Null counts per Z-slice: [3197062 2548921       0]\n",
      " Null percentage per Z-slice: [2.18023995 1.73823948 0.        ]%\n",
      "\n",
      "p10:\n",
      " Null counts per Z-slice: [3298632 2648790       0]\n",
      " Null percentage per Z-slice: [2.17694102 1.74807605 0.        ]%\n",
      "\n",
      "p11:\n",
      " Null counts per Z-slice: [3471659 2772735       0]\n",
      " Null percentage per Z-slice: [2.36750167 1.89086968 0.        ]%\n",
      "\n",
      "p12:\n",
      " Null counts per Z-slice: [3614381 2886808       0]\n",
      " Null percentage per Z-slice: [2.38532042 1.90515667 0.        ]%\n",
      "\n"
     ]
    }
   ],
   "execution_count": 6
  }
 ],
 "metadata": {
  "kernelspec": {
   "display_name": "Python 3",
   "language": "python",
   "name": "python3"
  },
  "language_info": {
   "codemirror_mode": {
    "name": "ipython",
    "version": 2
   },
   "file_extension": ".py",
   "mimetype": "text/x-python",
   "name": "python",
   "nbconvert_exporter": "python",
   "pygments_lexer": "ipython2",
   "version": "2.7.6"
  }
 },
 "nbformat": 4,
 "nbformat_minor": 5
}
